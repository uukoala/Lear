{
 "cells": [
  {
   "cell_type": "markdown",
   "metadata": {},
   "source": [
    "# Linear_Regression"
   ]
  },
  {
   "cell_type": "code",
   "execution_count": 1,
   "metadata": {
    "collapsed": true
   },
   "outputs": [],
   "source": [
    "import tensorflow as tf\n",
    "import numpy as np\n",
    "import matplotlib.pyplot as plt"
   ]
  },
  {
   "cell_type": "code",
   "execution_count": 2,
   "metadata": {
    "collapsed": true
   },
   "outputs": [],
   "source": [
    "# Parameters\n",
    "learning_rate = 0.001\n",
    "training_epoch = 1000\n",
    "show_step = 50"
   ]
  },
  {
   "cell_type": "code",
   "execution_count": 4,
   "metadata": {
    "collapsed": false
   },
   "outputs": [],
   "source": [
    "train_X = np.array([3.3,4.4,5.5,6.71,6.93,4.168,9.779,6.182,7.59,2.167,\n",
    "                         7.042,10.791,5.313,7.997,5.654,9.27,3.1])\n",
    "train_Y = np.asarray([1.7,2.76,2.09,3.19,1.694,1.573,3.366,2.596,2.53,1.221,\n",
    "                         2.827,3.465,1.65,2.904,2.42,2.94,1.3])\n",
    "n_samples = train_X.shape[0]"
   ]
  },
  {
   "cell_type": "code",
   "execution_count": 25,
   "metadata": {
    "collapsed": false
   },
   "outputs": [],
   "source": [
    "X = tf.placeholder(tf.float32)\n",
    "Y = tf.placeholder(tf.float32)\n",
    "\n",
    "W = tf.Variable(tf.truncated_normal([1], stddev = 0.1))\n",
    "b = tf.Variable(tf.truncated_normal([1], stddev = 0.1))"
   ]
  },
  {
   "cell_type": "code",
   "execution_count": 26,
   "metadata": {
    "collapsed": true
   },
   "outputs": [],
   "source": [
    "y_pred = X * W + b"
   ]
  },
  {
   "cell_type": "code",
   "execution_count": 27,
   "metadata": {
    "collapsed": false
   },
   "outputs": [],
   "source": [
    "cost = tf.reduce_sum(tf.pow(Y - y_pred, 2)) / (2*n_samples)\n",
    "optimizer = tf.train.GradientDescentOptimizer(learning_rate).minimize(cost)"
   ]
  },
  {
   "cell_type": "code",
   "execution_count": 29,
   "metadata": {
    "collapsed": true
   },
   "outputs": [],
   "source": [
    "init = tf.initialize_all_variables()"
   ]
  },
  {
   "cell_type": "code",
   "execution_count": 31,
   "metadata": {
    "collapsed": false
   },
   "outputs": [
    {
     "name": "stdout",
     "output_type": "stream",
     "text": [
      "Epoch:   50, cost = 0.115465209, W:  0.334134, b: 0.085508138\n",
      "Epoch:  100, cost = 0.107927941, W:  0.349155, b: 0.092021935\n",
      "Epoch:  150, cost = 0.107455887, W:  0.350178, b: 0.096532837\n",
      "Epoch:  200, cost = 0.107083820, W:  0.349748, b: 0.100812100\n",
      "Epoch:  250, cost = 0.106719226, W:  0.349170, b: 0.105044134\n",
      "Epoch:  300, cost = 0.106359251, W:  0.348580, b: 0.109248251\n",
      "Epoch:  350, cost = 0.106003642, W:  0.347992, b: 0.113426819\n",
      "Epoch:  400, cost = 0.105652340, W:  0.347407, b: 0.117579959\n",
      "Epoch:  450, cost = 0.105305292, W:  0.346825, b: 0.121708058\n",
      "Epoch:  500, cost = 0.104962416, W:  0.346248, b: 0.125811085\n",
      "Epoch:  550, cost = 0.104623675, W:  0.345674, b: 0.129889488\n",
      "Epoch:  600, cost = 0.104289025, W:  0.345102, b: 0.133943200\n",
      "Epoch:  650, cost = 0.103958473, W:  0.344535, b: 0.137971684\n",
      "Epoch:  700, cost = 0.103631899, W:  0.343971, b: 0.141975969\n",
      "Epoch:  750, cost = 0.103309251, W:  0.343410, b: 0.145956054\n",
      "Epoch:  800, cost = 0.102990538, W:  0.342853, b: 0.149911851\n",
      "Epoch:  850, cost = 0.102675639, W:  0.342300, b: 0.153844029\n",
      "Epoch:  900, cost = 0.102364525, W:  0.341749, b: 0.157752648\n",
      "Epoch:  950, cost = 0.102057174, W:  0.341202, b: 0.161637381\n",
      "Epoch: 1000, cost = 0.101753533, W:  0.340658, b: 0.165498719\n",
      "Optimizer Finished\n",
      "cost =  0.000181, W: 0.340658367, b: 0.165498719\n"
     ]
    },
    {
     "data": {
      "image/png": "[encoded data removed]",
      "text/plain": [
       "<matplotlib.figure.Figure at 0x7fb071cdf650>"
      ]
     },
     "metadata": {},
     "output_type": "display_data"
    }
   ],
   "source": [
    "with tf.Session() as sess:\n",
    "    sess.run(init)\n",
    "    for i in range(training_epoch):\n",
    "        for (x, y) in zip(train_X, train_Y):\n",
    "            sess.run(optimizer, feed_dict={X: x, Y: y})\n",
    "        if (i + 1) % show_step == 0:\n",
    "            cur_cost = sess.run(cost, feed_dict={X: train_X, Y: train_Y})\n",
    "            print \"Epoch: %4d, cost = %.9f, W: %9f, b: %.9f\" %(i+1, cur_cost, sess.run(W), sess.run(b))\n",
    "            \n",
    "    print \"Optimizer Finished\"\n",
    "    tr_cost = sess.run(cost, feed_dict={X: x, Y: y})\n",
    "    print \"cost = %9f, W: %.9f, b: %.9f\" %(tr_cost, sess.run(W), sess.run(b))\n",
    "    \n",
    "    plt.plot(train_X, train_Y, \"ro\", label = \"Original Line\")\n",
    "    plt.plot(train_X, sess.run(W) * train_X + sess.run(b), label = \"Fitted Line\")\n",
    "    plt.legend()\n",
    "    plt.show()"
   ]
  },
  {
   "cell_type": "code",
   "execution_count": null,
   "metadata": {
    "collapsed": true
   },
   "outputs": [],
   "source": []
  }
 ],
 "metadata": {
  "anaconda-cloud": {},
  "kernelspec": {
   "display_name": "Python [default]",
   "language": "python",
   "name": "python2"
  },
  "language_info": {
   "codemirror_mode": {
    "name": "ipython",
    "version": 2
   },
   "file_extension": ".py",
   "mimetype": "text/x-python",
   "name": "python",
   "nbconvert_exporter": "python",
   "pygments_lexer": "ipython2",
   "version": "2.7.12"
  }
 },
 "nbformat": 4,
 "nbformat_minor": 1
}
