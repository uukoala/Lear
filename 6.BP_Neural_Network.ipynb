{
 "cells": [
  {
   "cell_type": "markdown",
   "metadata": {},
   "source": [
    "# BP_Neural_Network"
   ]
  },
  {
   "cell_type": "code",
   "execution_count": 1,
   "metadata": {
    "collapsed": false
   },
   "outputs": [
    {
     "name": "stdout",
     "output_type": "stream",
     "text": [
      "Extracting MNIST/train-images-idx3-ubyte.gz\n",
      "Extracting MNIST/train-labels-idx1-ubyte.gz\n",
      "Extracting MNIST/t10k-images-idx3-ubyte.gz\n",
      "Extracting MNIST/t10k-labels-idx1-ubyte.gz\n"
     ]
    }
   ],
   "source": [
    "import tensorflow as tf\n",
    "import numpy as np\n",
    "from tensorflow.examples.tutorials.mnist import input_data\n",
    "\n",
    "#Load the data\n",
    "mnist = input_data.read_data_sets(\"MNIST/\", one_hot=True)"
   ]
  },
  {
   "cell_type": "code",
   "execution_count": 2,
   "metadata": {
    "collapsed": false
   },
   "outputs": [],
   "source": [
    "learning_rate =0.05\n",
    "batch_size = 500\n",
    "\n",
    "def weight(shape):\n",
    "    return tf.Variable(tf.truncated_normal(shape, stddev=0.01))"
   ]
  },
  {
   "cell_type": "code",
   "execution_count": 3,
   "metadata": {
    "collapsed": false
   },
   "outputs": [],
   "source": [
    "X = tf.placeholder(tf.float32, [None,784])\n",
    "Y = tf.placeholder(tf.float32, [None,10])\n",
    "\n",
    "w_hidden = weight([784, 625])\n",
    "w_output = weight([625, 10])\n",
    "\n",
    "hidden_out = tf.matmul(tf.nn.sigmoid(tf.matmul(X, w_hidden)),w_output)\n",
    "\n",
    "#train\n",
    "cost = tf.reduce_mean(tf.nn.softmax_cross_entropy_with_logits(hidden_out, Y))\n",
    "optimizer = tf.train.GradientDescentOptimizer(learning_rate).minimize(cost)\n",
    "\n",
    "#evaluate\n",
    "correct_prediction = tf.equal(tf.argmax(Y, 1), tf.argmax(hidden_out,1))\n",
    "accuracy = tf.reduce_mean(tf.cast(correct_prediction, tf.float32))\n",
    "\n",
    "init = tf.initialize_all_variables()"
   ]
  },
  {
   "cell_type": "code",
   "execution_count": 4,
   "metadata": {
    "collapsed": false,
    "scrolled": true
   },
   "outputs": [
    {
     "name": "stdout",
     "output_type": "stream",
     "text": [
      "Epoch: 500, accuracy: 0.734000\n",
      "Epoch: 1000, accuracy: 0.848000\n",
      "Epoch: 1500, accuracy: 0.860000\n",
      "Epoch: 2000, accuracy: 0.862000\n",
      "Epoch: 2500, accuracy: 0.894000\n",
      "Epoch: 3000, accuracy: 0.914000\n",
      "Epoch: 3500, accuracy: 0.894000\n",
      "Epoch: 4000, accuracy: 0.904000\n",
      "Epoch: 4500, accuracy: 0.910000\n",
      "Epoch: 5000, accuracy: 0.892000\n",
      "Epoch: 5500, accuracy: 0.904000\n",
      "Epoch: 6000, accuracy: 0.904000\n",
      "Epoch: 6500, accuracy: 0.922000\n",
      "Epoch: 7000, accuracy: 0.926000\n",
      "Epoch: 7500, accuracy: 0.902000\n",
      "Epoch: 8000, accuracy: 0.926000\n",
      "Epoch: 8500, accuracy: 0.924000\n",
      "Epoch: 9000, accuracy: 0.926000\n",
      "Epoch: 9500, accuracy: 0.942000\n",
      "Epoch: 10000, accuracy: 0.920000\n",
      "Done\n",
      "Test Accuracy: 0.8986\n"
     ]
    }
   ],
   "source": [
    "with tf.Session() as sess:\n",
    "    sess.run(init)\n",
    "    for i in range(10000):\n",
    "        Xtr, Ytr = mnist.train.next_batch(batch_size)\n",
    "        optimizer.run(feed_dict = {X: Xtr, Y: Ytr})\n",
    "        train_accuracy = sess.run(accuracy, feed_dict ={X: Xtr, Y: Ytr})\n",
    "        if (i+1) % 500 ==0:\n",
    "            print \"Epoch: %d, accuracy: %f\" %(i+1, train_accuracy)\n",
    "    print \"Done\"\n",
    "    Xte, Yte = mnist.test.next_batch(5000)\n",
    "    print \"Test Accuracy:\",sess.run(accuracy, feed_dict ={X: Xte,Y: Yte})"
   ]
  }
 ],
 "metadata": {
  "anaconda-cloud": {},
  "kernelspec": {
   "display_name": "Python [conda root]",
   "language": "python",
   "name": "conda-root-py"
  },
  "language_info": {
   "codemirror_mode": {
    "name": "ipython",
    "version": 2
   },
   "file_extension": ".py",
   "mimetype": "text/x-python",
   "name": "python",
   "nbconvert_exporter": "python",
   "pygments_lexer": "ipython2",
   "version": "2.7.12"
  }
 },
 "nbformat": 4,
 "nbformat_minor": 1
}
