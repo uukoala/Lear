{
 "cells": [
  {
   "cell_type": "markdown",
   "metadata": {},
   "source": [
    "# BP_Neural_Network"
   ]
  },
  {
   "cell_type": "code",
   "execution_count": 1,
   "metadata": {
    "collapsed": false
   },
   "outputs": [
    {
     "name": "stdout",
     "output_type": "stream",
     "text": [
      "Extracting MNIST/train-images-idx3-ubyte.gz\n",
      "Extracting MNIST/train-labels-idx1-ubyte.gz\n",
      "Extracting MNIST/t10k-images-idx3-ubyte.gz\n",
      "Extracting MNIST/t10k-labels-idx1-ubyte.gz\n"
     ]
    }
   ],
   "source": [
    "import tensorflow as tf\n",
    "import numpy as np\n",
    "from tensorflow.examples.tutorials.mnist import input_data\n",
    "\n",
    "#Load the data\n",
    "mnist = input_data.read_data_sets(\"MNIST/\", one_hot=True)"
   ]
  },
  {
   "cell_type": "code",
   "execution_count": 2,
   "metadata": {
    "collapsed": false
   },
   "outputs": [],
   "source": [
    "learning_rate =0.05\n",
    "batch_size = 500\n",
    "lamda = 0.001\n",
    "\n",
    "def weight(shape):\n",
    "    return tf.Variable(tf.truncated_normal(shape, stddev=0.01))\n",
    "\n",
    "def model(w_hidden, w_output):\n",
    "    h_i = tf.matmul(X, w_hidden)\n",
    "    h_o = tf.nn.sigmoid(h_i)\n",
    "    \n",
    "    return tf.matmul(h_o,w_output)"
   ]
  },
  {
   "cell_type": "code",
   "execution_count": 3,
   "metadata": {
    "collapsed": false
   },
   "outputs": [],
   "source": [
    "X = tf.placeholder(tf.float32, [None,784])\n",
    "Y = tf.placeholder(tf.float32, [None,10])\n",
    "\n",
    "w_hidden = weight([784, 625])\n",
    "w_output = weight([625, 10])\n",
    "\n",
    "hidden_out = model(w_hidden, w_output)\n",
    "\n",
    "#train\n",
    "cost = tf.reduce_mean(tf.nn.softmax_cross_entropy_with_logits(hidden_out, Y)) \n",
    "        #+ lamda * (tf.reduce_sum(w_hidden) + tf.reduce_sum(w_output))\n",
    "optimizer = tf.train.GradientDescentOptimizer(learning_rate).minimize(cost)\n",
    "\n",
    "#evaluate\n",
    "correct_prediction = tf.equal(tf.argmax(Y, 1), tf.argmax(hidden_out,1))\n",
    "accuracy = tf.reduce_mean(tf.cast(correct_prediction, tf.float32))\n",
    "\n",
    "init = tf.initialize_all_variables()"
   ]
  },
  {
   "cell_type": "code",
   "execution_count": 4,
   "metadata": {
    "collapsed": false,
    "scrolled": true
   },
   "outputs": [
    {
     "name": "stdout",
     "output_type": "stream",
     "text": [
      "Epoch: 1, accuracy: 0.773438\n",
      "Epoch: 2, accuracy: 0.968750\n",
      "Epoch: 3, accuracy: 0.992188\n",
      "Epoch: 4, accuracy: 0.992188\n",
      "Epoch: 5, accuracy: 0.992188\n",
      "Epoch: 6, accuracy: 0.992188\n",
      "Epoch: 7, accuracy: 0.992188\n",
      "Epoch: 8, accuracy: 0.992188\n",
      "Epoch: 9, accuracy: 0.992188\n",
      "Epoch: 10, accuracy: 1.000000\n",
      "Epoch: 11, accuracy: 1.000000\n",
      "Epoch: 12, accuracy: 1.000000\n",
      "Epoch: 13, accuracy: 1.000000\n",
      "Epoch: 14, accuracy: 1.000000\n",
      "Epoch: 15, accuracy: 1.000000\n",
      "Epoch: 16, accuracy: 1.000000\n",
      "Epoch: 17, accuracy: 1.000000\n",
      "Epoch: 18, accuracy: 1.000000\n",
      "Epoch: 19, accuracy: 1.000000\n",
      "Epoch: 20, accuracy: 1.000000\n",
      "Done\n",
      "Test Accuracy: 0.9172\n"
     ]
    }
   ],
   "source": [
    "with tf.Session() as sess:\n",
    "    sess.run(init)\n",
    "    for i in range(20):\n",
    "        Xtr, Ytr = mnist.train.images, mnist.train.labels\n",
    "        for start, end in zip(range(0, len(Xtr), 128), range(128, len(Xtr)+1, 128)):\n",
    "            optimizer.run(feed_dict = {X: Xtr[start: end], Y: Ytr[start: end]})\n",
    "            train_accuracy = sess.run(accuracy, feed_dict ={X: Xtr[start: end], Y: Ytr[start: end]})\n",
    "        \n",
    "        print \"Epoch: %d, accuracy: %f\" %(i+1, train_accuracy)\n",
    "    \n",
    "    print \"Done\"\n",
    "    Xte, Yte = mnist.test.next_batch(10000)\n",
    "    print \"Test Accuracy:\",sess.run(accuracy, feed_dict ={X: Xte,Y: Yte})"
   ]
  }
 ],
 "metadata": {
  "anaconda-cloud": {},
  "kernelspec": {
   "display_name": "Python [conda root]",
   "language": "python",
   "name": "conda-root-py"
  },
  "language_info": {
   "codemirror_mode": {
    "name": "ipython",
    "version": 2
   },
   "file_extension": ".py",
   "mimetype": "text/x-python",
   "name": "python",
   "nbconvert_exporter": "python",
   "pygments_lexer": "ipython2",
   "version": "2.7.12"
  }
 },
 "nbformat": 4,
 "nbformat_minor": 1
}
