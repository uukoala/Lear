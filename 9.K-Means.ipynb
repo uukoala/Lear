{
 "cells": [
  {
   "cell_type": "markdown",
   "metadata": {},
   "source": [
    "# K-Means"
   ]
  },
  {
   "cell_type": "code",
   "execution_count": 1,
   "metadata": {
    "collapsed": true
   },
   "outputs": [],
   "source": [
    "import numpy as np\n",
    "import tensorflow as tf"
   ]
  },
  {
   "cell_type": "code",
   "execution_count": null,
   "metadata": {
    "collapsed": true
   },
   "outputs": [],
   "source": [
    "#Load Data\n",
    "def loadDataSet(filename):\n",
    "    dataMat = []\n",
    "    fr = open(filename)\n",
    "    for line in fr.readlines():\n",
    "        curLine = line.strip().split('\\t')\n",
    "        fltLine = map(float, curLine)\n",
    "        dataMat.append(fltLine)\n",
    "    return dataMat\n",
    "\n",
    "#Compting the Euclidean Distance\n",
    "def distEuclide(vecA, vecB):\n",
    "    return tf.sqrt(tf.reduce_sum(tf.square(vecA - vecB), 2))\n",
    "\n",
    "#Choose Random Centroids\n",
    "def initRandomCentroid(dataSet, k):\n",
    "    m = tf.shape(dataSet)[0]\n",
    "    randIndices = tf.random_shuffle(tf.range(0, m))\n",
    "    begin = [0,]\n",
    "    size = [k,]\n",
    "    size[0] = k\n",
    "    centroidIndices = tf.slice(randIndices, begin, size)\n",
    "    initCentroids = tf.gather(dataSet, centroidIndices)\n",
    "    return initCentroids\n",
    "\n",
    "#Assign Each sample to the Nearest Centroid\n",
    "def assignToNearest(dataSet, centroids, distMeans = distEuclide):\n",
    "    #Choose Euclidean Distance\n",
    "    expandVectors = tf.expand_dims(dataSet, 0)\n",
    "    expandCentroids = tf.expand_dims(centroids, 1)\n",
    "    distance = distMeans(expandVectors, expandCentroids)\n",
    "    mins = argmin(distance, 0)\n",
    "    return mins\n",
    "\n",
    "def kMeans(dataSet, k, distMeans = distEuclide, createCent = initRandomCentroid):\n",
    "    initRandomCentroid(dataSet, k)\n",
    "    clusterChanged = True\n",
    "    while clusterChanged:\n",
    "        clusterChanged = False\n",
    "        \n",
    "    "
   ]
  }
 ],
 "metadata": {
  "anaconda-cloud": {},
  "kernelspec": {
   "display_name": "Python [conda root]",
   "language": "python",
   "name": "conda-root-py"
  },
  "language_info": {
   "codemirror_mode": {
    "name": "ipython",
    "version": 2
   },
   "file_extension": ".py",
   "mimetype": "text/x-python",
   "name": "python",
   "nbconvert_exporter": "python",
   "pygments_lexer": "ipython2",
   "version": "2.7.12"
  }
 },
 "nbformat": 4,
 "nbformat_minor": 1
}
