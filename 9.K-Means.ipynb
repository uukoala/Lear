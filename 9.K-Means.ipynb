{
 "cells": [
  {
   "cell_type": "markdown",
   "metadata": {},
   "source": [
    "# K-Means"
   ]
  },
  {
   "cell_type": "code",
   "execution_count": 3,
   "metadata": {
    "collapsed": true
   },
   "outputs": [],
   "source": [
    "import numpy as np\n",
    "import tensorflow as tf"
   ]
  },
  {
   "cell_type": "code",
   "execution_count": 35,
   "metadata": {
    "collapsed": true
   },
   "outputs": [],
   "source": [
    "#Load Data\n",
    "def loadDataSet(filename):\n",
    "    dataMat = []\n",
    "    fr = open(filename)\n",
    "    for line in fr.readlines():\n",
    "        curLine = line.strip().split('\\t')\n",
    "        fltLine = map(float, curLine)\n",
    "        dataMat.append(fltLine)\n",
    "    return dataMat\n",
    "\n",
    "#Compting the Euclidean Distance\n",
    "def distEuclide(vecA, vecB):\n",
    "    return tf.sqrt(tf.reduce_sum(tf.square(vecA - vecB), 2))\n",
    "\n",
    "#Choose Random Centroids\n",
    "def initRandomCentroid(dataSet, k):\n",
    "    m = tf.shape(dataSet)[0]\n",
    "    randIndices = tf.random_shuffle(tf.range(0, m))\n",
    "    begin = [0,]\n",
    "    size = [k,]\n",
    "    size[0] = k\n",
    "    centroidIndices = tf.slice(randIndices, begin, size)\n",
    "    initCentroids = tf.gather(dataSet, centroidIndices)\n",
    "    return initCentroids\n",
    "\n",
    "#Assign Each sample to the Nearest Centroid\n",
    "def assignToNearest(dataSet, centroids, distMeans):\n",
    "    #Choose Euclidean Distance\n",
    "    expandVectors = tf.expand_dims(dataSet, 0)\n",
    "    expandCentroids = tf.to_float(tf.expand_dims(centroids, 1))\n",
    "    distance = distMeans(expandVectors, expandCentroids)\n",
    "    mins = tf.argmin(distance, 0)\n",
    "    nearestIndices = mins\n",
    "\n",
    "    return nearestIndices\n",
    "\n",
    "def updateCentroids(dataSet, nearestIndices, k):\n",
    "    nearestIndices = tf.to_int32(nearestIndices)\n",
    "    partitions = tf.dynamic_partition(dataSet, nearestIndices, k)\n",
    "    newCentroids = [tf.reduce_mean(partition, 0) for partition in partitions]\n",
    "    \n",
    "    return newCentroids\n",
    "\n",
    "def kMeans(dataSet, k, distMeans = distEuclide, createCent = initRandomCentroid):\n",
    "    initCent = createCent(dataSet, k)\n",
    "    initNearestIndices = assignToNearest(dataSet, initCent, distMeans)\n",
    "    preIndices = initNearestIndices\n",
    "    newCent = updateCentroids(dataSet, initNearestIndices, k)\n",
    "    clusterChanged = True\n",
    "    while clusterChanged:\n",
    "        clusterChanged = False\n",
    "        nearestIndices = assignToNearest(dataSet, newCent, distMeans)\n",
    "        newCent = updateCentroids(dataSet, nearestIndices, k)\n",
    "        print newCent\n",
    "        flag = tf.cast(tf.equal(preIndices,nearestIndices), tf.float32)\n",
    "        if flag[tf.argmin(flag,0)] == 0:\n",
    "            clusterChanged = True\n",
    "    print \"Done\"\n",
    "    return newCent"
   ]
  },
  {
   "cell_type": "code",
   "execution_count": 36,
   "metadata": {
    "collapsed": false
   },
   "outputs": [
    {
     "name": "stdout",
     "output_type": "stream",
     "text": [
      "[<tf.Tensor 'Mean_52:0' shape=(2,) dtype=float32>, <tf.Tensor 'Mean_53:0' shape=(2,) dtype=float32>, <tf.Tensor 'Mean_54:0' shape=(2,) dtype=float32>, <tf.Tensor 'Mean_55:0' shape=(2,) dtype=float32>]\n"
     ]
    },
    {
     "ename": "TypeError",
     "evalue": "Bad slice index Tensor(\"ArgMin_18:0\", shape=(), dtype=int64) of type <class 'tensorflow.python.framework.ops.Tensor'>",
     "output_type": "error",
     "traceback": [
      "\u001b[0;31m---------------------------------------------------------------------------\u001b[0m",
      "\u001b[0;31mTypeError\u001b[0m                                 Traceback (most recent call last)",
      "\u001b[0;32m<ipython-input-36-6a62cf9f46fa>\u001b[0m in \u001b[0;36m<module>\u001b[0;34m()\u001b[0m\n\u001b[1;32m      1\u001b[0m \u001b[0mY\u001b[0m \u001b[0;34m=\u001b[0m \u001b[0mtf\u001b[0m\u001b[0;34m.\u001b[0m\u001b[0mplaceholder\u001b[0m\u001b[0;34m(\u001b[0m\u001b[0mtf\u001b[0m\u001b[0;34m.\u001b[0m\u001b[0mfloat32\u001b[0m\u001b[0;34m,\u001b[0m\u001b[0;34m[\u001b[0m\u001b[0mNone\u001b[0m\u001b[0;34m,\u001b[0m \u001b[0;36m2\u001b[0m\u001b[0;34m]\u001b[0m\u001b[0;34m)\u001b[0m\u001b[0;34m\u001b[0m\u001b[0m\n\u001b[0;32m----> 2\u001b[0;31m \u001b[0mcentroid\u001b[0m \u001b[0;34m=\u001b[0m \u001b[0mkMeans\u001b[0m\u001b[0;34m(\u001b[0m\u001b[0mY\u001b[0m\u001b[0;34m,\u001b[0m \u001b[0;36m4\u001b[0m\u001b[0;34m)\u001b[0m\u001b[0;34m\u001b[0m\u001b[0m\n\u001b[0m\u001b[1;32m      3\u001b[0m \u001b[0;34m\u001b[0m\u001b[0m\n\u001b[1;32m      4\u001b[0m \u001b[0;32mwith\u001b[0m \u001b[0mtf\u001b[0m\u001b[0;34m.\u001b[0m\u001b[0mSession\u001b[0m\u001b[0;34m(\u001b[0m\u001b[0;34m)\u001b[0m \u001b[0;32mas\u001b[0m \u001b[0msess\u001b[0m\u001b[0;34m:\u001b[0m\u001b[0;34m\u001b[0m\u001b[0m\n\u001b[1;32m      5\u001b[0m     \u001b[0mdataSet\u001b[0m \u001b[0;34m=\u001b[0m \u001b[0mloadDataSet\u001b[0m\u001b[0;34m(\u001b[0m\u001b[0;34m'testSet.tt'\u001b[0m\u001b[0;34m)\u001b[0m\u001b[0;34m\u001b[0m\u001b[0m\n",
      "\u001b[0;32m<ipython-input-35-126896f8beb3>\u001b[0m in \u001b[0;36mkMeans\u001b[0;34m(dataSet, k, distMeans, createCent)\u001b[0m\n\u001b[1;32m     54\u001b[0m         \u001b[0;32mprint\u001b[0m \u001b[0mnewCent\u001b[0m\u001b[0;34m\u001b[0m\u001b[0m\n\u001b[1;32m     55\u001b[0m         \u001b[0mflag\u001b[0m \u001b[0;34m=\u001b[0m \u001b[0mtf\u001b[0m\u001b[0;34m.\u001b[0m\u001b[0mcast\u001b[0m\u001b[0;34m(\u001b[0m\u001b[0mtf\u001b[0m\u001b[0;34m.\u001b[0m\u001b[0mequal\u001b[0m\u001b[0;34m(\u001b[0m\u001b[0mpreIndices\u001b[0m\u001b[0;34m,\u001b[0m\u001b[0mnearestIndices\u001b[0m\u001b[0;34m)\u001b[0m\u001b[0;34m,\u001b[0m \u001b[0mtf\u001b[0m\u001b[0;34m.\u001b[0m\u001b[0mfloat32\u001b[0m\u001b[0;34m)\u001b[0m\u001b[0;34m\u001b[0m\u001b[0m\n\u001b[0;32m---> 56\u001b[0;31m         \u001b[0;32mif\u001b[0m \u001b[0mflag\u001b[0m\u001b[0;34m[\u001b[0m\u001b[0mtf\u001b[0m\u001b[0;34m.\u001b[0m\u001b[0margmin\u001b[0m\u001b[0;34m(\u001b[0m\u001b[0mflag\u001b[0m\u001b[0;34m,\u001b[0m\u001b[0;36m0\u001b[0m\u001b[0;34m)\u001b[0m\u001b[0;34m]\u001b[0m \u001b[0;34m==\u001b[0m \u001b[0;36m0\u001b[0m\u001b[0;34m:\u001b[0m\u001b[0;34m\u001b[0m\u001b[0m\n\u001b[0m\u001b[1;32m     57\u001b[0m             \u001b[0mclusterChanged\u001b[0m \u001b[0;34m=\u001b[0m \u001b[0mTrue\u001b[0m\u001b[0;34m\u001b[0m\u001b[0m\n\u001b[1;32m     58\u001b[0m     \u001b[0;32mprint\u001b[0m \u001b[0;34m\"Done\"\u001b[0m\u001b[0;34m\u001b[0m\u001b[0m\n",
      "\u001b[0;32m/home/msy/anaconda2/lib/python2.7/site-packages/tensorflow/python/ops/array_ops.pyc\u001b[0m in \u001b[0;36m_SliceHelper\u001b[0;34m(tensor, slice_spec)\u001b[0m\n\u001b[1;32m    330\u001b[0m         \u001b[0ms\u001b[0m \u001b[0;34m=\u001b[0m \u001b[0mint\u001b[0m\u001b[0;34m(\u001b[0m\u001b[0ms\u001b[0m\u001b[0;34m)\u001b[0m\u001b[0;34m\u001b[0m\u001b[0m\n\u001b[1;32m    331\u001b[0m       \u001b[0;32mexcept\u001b[0m \u001b[0mTypeError\u001b[0m\u001b[0;34m:\u001b[0m\u001b[0;34m\u001b[0m\u001b[0m\n\u001b[0;32m--> 332\u001b[0;31m         \u001b[0;32mraise\u001b[0m \u001b[0mTypeError\u001b[0m\u001b[0;34m(\u001b[0m\u001b[0;34m\"Bad slice index %s of type %s\"\u001b[0m \u001b[0;34m%\u001b[0m \u001b[0;34m(\u001b[0m\u001b[0ms\u001b[0m\u001b[0;34m,\u001b[0m \u001b[0mtype\u001b[0m\u001b[0;34m(\u001b[0m\u001b[0ms\u001b[0m\u001b[0;34m)\u001b[0m\u001b[0;34m)\u001b[0m\u001b[0;34m)\u001b[0m\u001b[0;34m\u001b[0m\u001b[0m\n\u001b[0m\u001b[1;32m    333\u001b[0m       \u001b[0;32mif\u001b[0m \u001b[0ms\u001b[0m \u001b[0;34m<\u001b[0m \u001b[0;36m0\u001b[0m\u001b[0;34m:\u001b[0m\u001b[0;34m\u001b[0m\u001b[0m\n\u001b[1;32m    334\u001b[0m         \u001b[0;32mraise\u001b[0m \u001b[0mNotImplementedError\u001b[0m\u001b[0;34m(\u001b[0m\u001b[0;34m\"Negative indices are currently unsupported\"\u001b[0m\u001b[0;34m)\u001b[0m\u001b[0;34m\u001b[0m\u001b[0m\n",
      "\u001b[0;31mTypeError\u001b[0m: Bad slice index Tensor(\"ArgMin_18:0\", shape=(), dtype=int64) of type <class 'tensorflow.python.framework.ops.Tensor'>"
     ]
    }
   ],
   "source": [
    "Y = tf.placeholder(tf.float32,[None, 2])\n",
    "centroid = kMeans(Y, 4)\n",
    "\n",
    "with tf.Session() as sess:\n",
    "    dataSet = loadDataSet('testSet.tt')\n",
    "    finalCent = sess.run(centroid, feed_dict = {Y: dataSet})\n",
    "    print finalCent"
   ]
  },
  {
   "cell_type": "code",
   "execution_count": null,
   "metadata": {
    "collapsed": true
   },
   "outputs": [],
   "source": []
  }
 ],
 "metadata": {
  "anaconda-cloud": {},
  "kernelspec": {
   "display_name": "Python [conda root]",
   "language": "python",
   "name": "conda-root-py"
  },
  "language_info": {
   "codemirror_mode": {
    "name": "ipython",
    "version": 2
   },
   "file_extension": ".py",
   "mimetype": "text/x-python",
   "name": "python",
   "nbconvert_exporter": "python",
   "pygments_lexer": "ipython2",
   "version": "2.7.12"
  }
 },
 "nbformat": 4,
 "nbformat_minor": 1
}
