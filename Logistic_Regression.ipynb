{
 "cells": [
  {
   "cell_type": "markdown",
   "metadata": {},
   "source": [
    "# Logistic_Regression"
   ]
  },
  {
   "cell_type": "code",
   "execution_count": 2,
   "metadata": {
    "collapsed": false
   },
   "outputs": [
    {
     "name": "stdout",
     "output_type": "stream",
     "text": [
      "Successfully downloaded train-images-idx3-ubyte.gz 9912422 bytes.\n",
      "Extracting MNIST/train-images-idx3-ubyte.gz\n",
      "Successfully downloaded train-labels-idx1-ubyte.gz 28881 bytes.\n",
      "Extracting MNIST/train-labels-idx1-ubyte.gz\n",
      "Successfully downloaded t10k-images-idx3-ubyte.gz 1648877 bytes.\n",
      "Extracting MNIST/t10k-images-idx3-ubyte.gz\n",
      "Successfully downloaded t10k-labels-idx1-ubyte.gz 4542 bytes.\n",
      "Extracting MNIST/t10k-labels-idx1-ubyte.gz\n"
     ]
    }
   ],
   "source": [
    "import tensorflow as tf\n",
    "from tensorflow.examples.tutorials.mnist import input_data\n",
    "\n",
    "# load the data\n",
    "mnist = input_data.read_data_sets(\"MNIST/\", one_hot=True)"
   ]
  },
  {
   "cell_type": "code",
   "execution_count": 13,
   "metadata": {
    "collapsed": false
   },
   "outputs": [
    {
     "name": "stdout",
     "output_type": "stream",
     "text": [
      "\n"
     ]
    }
   ],
   "source": [
    "#Parameters\n",
    "learning_rate = 0.01\n",
    "training_epoch = 10000\n",
    "batch_size = 100\n",
    "show_step = 500\n",
    "\n",
    "#Create the model\n",
    "X = tf.placeholder(tf.float32, [None, 784])\n",
    "Y = tf.placeholder(tf.float32, [None, 10])\n",
    "\n",
    "W = tf.Variable(tf.truncated_normal([784, 10], stddev = 0.1))\n",
    "b = tf.Variable(tf.truncated_normal([10], stddev = 0.1))\n",
    "\n",
    "Y_pred = tf.matmul(X,W) + b\n",
    "cost = tf.reduce_mean(tf.nn.softmax_cross_entropy_with_logits(Y_pred, Y))\n",
    "optimizer = tf.train.GradientDescentOptimizer(learning_rate).minimize(cost)\n",
    "correct_prediction = tf.equal(tf.argmax(Y, 1),tf.argmax(Y_pred, 1))\n",
    "accuracy = tf.reduce_mean(tf.cast(correct_prediction, tf.float32))\n",
    "init = tf.initialize_all_variables()"
   ]
  },
  {
   "cell_type": "code",
   "execution_count": 14,
   "metadata": {
    "collapsed": false
   },
   "outputs": [
    {
     "name": "stdout",
     "output_type": "stream",
     "text": [
      "Epoch: 500, cost = 0.839098215\n",
      "Epoch: 1000, cost = 0.607235432\n",
      "Epoch: 1500, cost = 0.597620189\n",
      "Epoch: 2000, cost = 0.409456939\n",
      "Epoch: 2500, cost = 0.487460226\n",
      "Epoch: 3000, cost = 0.449306786\n",
      "Epoch: 3500, cost = 0.370089889\n",
      "Epoch: 4000, cost = 0.407864124\n",
      "Epoch: 4500, cost = 0.445636362\n",
      "Epoch: 5000, cost = 0.319198012\n",
      "Epoch: 5500, cost = 0.466617733\n",
      "Epoch: 6000, cost = 0.400761068\n",
      "Epoch: 6500, cost = 0.390874028\n",
      "Epoch: 7000, cost = 0.411686629\n",
      "Epoch: 7500, cost = 0.271944016\n",
      "Epoch: 8000, cost = 0.338310599\n",
      "Epoch: 8500, cost = 0.271567285\n",
      "Epoch: 9000, cost = 0.383931756\n",
      "Epoch: 9500, cost = 0.487821847\n",
      "Epoch: 10000, cost = 0.383476794\n",
      "Optimizer Finished\n",
      "Accuracy:  0.884667\n"
     ]
    }
   ],
   "source": [
    "with tf.Session() as sess:\n",
    "    sess.run(init)\n",
    "    \n",
    "    for epoch in range(training_epoch):\n",
    "        batch_xs, batch_ys = mnist.train.next_batch(batch_size)\n",
    "        sess.run(optimizer, feed_dict ={X: batch_xs, Y: batch_ys})\n",
    "        cur_cost = sess.run(cost, feed_dict ={X: batch_xs, Y: batch_ys})\n",
    "        \n",
    "        if (epoch + 1) % show_step == 0:\n",
    "            print \"Epoch: %d, cost = %.9f\" %(epoch + 1, cur_cost)\n",
    "    print \"Optimizer Finished\"\n",
    "    \n",
    "    print \"Accuracy: \",sess.run(accuracy, feed_dict ={X: mnist.test.images[:3000],\\\n",
    "                                                     Y:mnist.test.labels[:3000]}) "
   ]
  }
 ],
 "metadata": {
  "kernelspec": {
   "display_name": "Python [conda root]",
   "language": "python",
   "name": "conda-root-py"
  },
  "language_info": {
   "codemirror_mode": {
    "name": "ipython",
    "version": 2
   },
   "file_extension": ".py",
   "mimetype": "text/x-python",
   "name": "python",
   "nbconvert_exporter": "python",
   "pygments_lexer": "ipython2",
   "version": "2.7.12"
  }
 },
 "nbformat": 4,
 "nbformat_minor": 1
}
