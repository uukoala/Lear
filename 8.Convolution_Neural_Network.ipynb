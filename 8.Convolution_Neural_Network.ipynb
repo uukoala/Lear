{
 "cells": [
  {
   "cell_type": "markdown",
   "metadata": {},
   "source": [
    "# Convolution_Neural_Network"
   ]
  },
  {
   "cell_type": "code",
   "execution_count": 1,
   "metadata": {
    "collapsed": false
   },
   "outputs": [
    {
     "name": "stdout",
     "output_type": "stream",
     "text": [
      "Extracting MNIST/train-images-idx3-ubyte.gz\n",
      "Extracting MNIST/train-labels-idx1-ubyte.gz\n",
      "Extracting MNIST/t10k-images-idx3-ubyte.gz\n",
      "Extracting MNIST/t10k-labels-idx1-ubyte.gz\n"
     ]
    }
   ],
   "source": [
    "import tensorflow as tf\n",
    "import numpy as np\n",
    "from tensorflow.examples.tutorials.mnist import input_data\n",
    "\n",
    "#Load the data\n",
    "mnist = input_data.read_data_sets(\"MNIST/\", one_hot=True)"
   ]
  },
  {
   "cell_type": "code",
   "execution_count": 2,
   "metadata": {
    "collapsed": true
   },
   "outputs": [],
   "source": [
    "def weight(shape):\n",
    "    return tf.Variable(tf.truncated_normal(shape, stddev = 0.1))\n",
    "\n",
    "def model(w_conv1, w_conv2, w_h, w_o, keep_rate_conv, keep_rate_hid):\n",
    "    conv1_o = tf.nn.relu(tf.nn.conv2d(X, w_conv1, strides = [1, 1, 1, 1], padding = 'SAME'))\n",
    "    pool1_o = tf.nn.max_pool(conv1_o, ksize = [1, 2, 2, 1], strides = [1, 2, 2, 1], padding = 'SAME')\n",
    "    pool1_o = tf.nn.dropout(pool1_o,keep_rate_conv)\n",
    "    \n",
    "    conv2_o = tf.nn.relu(tf.nn.conv2d(pool1_o, w_conv2, strides = [1, 1, 1, 1], padding = 'SAME'))\n",
    "    pool2_o = tf.nn.max_pool(conv2_o, ksize = [1, 2, 2, 1], strides = [1, 2, 2, 1], padding = 'SAME')\n",
    "    pool2_o = tf.nn.dropout(tf.reshape(pool2_o, [-1, w_h.get_shape().as_list()[0]]), keep_rate_conv)\n",
    "    \n",
    "    hidden_o = tf.nn.relu(tf.matmul(pool2_o, w_h))\n",
    "    hidden_o = tf.nn.dropout(hidden_o,keep_rate_hid)\n",
    "    \n",
    "    return tf.matmul(hidden_o, w_o)   "
   ]
  },
  {
   "cell_type": "code",
   "execution_count": 3,
   "metadata": {
    "collapsed": false
   },
   "outputs": [],
   "source": [
    "X = tf.placeholder(tf.float32, [None, 28, 28, 1])\n",
    "Y = tf.placeholder(tf.float32, [None, 10])\n",
    "keep_rate_conv = tf.placeholder(tf.float32)\n",
    "keep_rate_hid = tf.placeholder(tf.float32)\n",
    "\n",
    "w_conv1 = weight([3, 3, 1, 32])\n",
    "w_conv2 = weight([3, 3, 32, 64])\n",
    "w_h = weight([7 * 7 * 64, 625])\n",
    "w_o = weight([625, 10])\n",
    "\n",
    "y_pred = model(w_conv1, w_conv2, w_h, w_o, keep_rate_conv, keep_rate_hid)\n",
    "\n",
    "cost = tf.reduce_mean(tf.nn.softmax_cross_entropy_with_logits(y_pred, Y))\n",
    "optimizer = tf.train.RMSPropOptimizer(0.001, 0.9).minimize(cost)\n",
    "\n",
    "predict_correction = tf.equal(tf.argmax(y_pred, 1), tf.argmax(Y, 1))\n",
    "accuracy = tf.reduce_mean(tf.cast(predict_correction, tf.float32))\n",
    "\n",
    "init = tf.initialize_all_variables()"
   ]
  },
  {
   "cell_type": "code",
   "execution_count": 5,
   "metadata": {
    "collapsed": false
   },
   "outputs": [
    {
     "name": "stdout",
     "output_type": "stream",
     "text": [
      " Epoch: 1, Accuracy: 1.000000\n",
      "Epoch: 2, Accuracy: 1.000000\n",
      "Epoch: 3, Accuracy: 0.992188\n",
      "Epoch: 4, Accuracy: 1.000000\n",
      "Epoch: 5, Accuracy: 0.992188\n",
      "Done\n",
      "Test Accuracy:  0.994\n"
     ]
    }
   ],
   "source": [
    "with tf.Session() as sess:\n",
    "    sess.run(init)\n",
    "    Xtr, Ytr = mnist.train.images, mnist.train.labels\n",
    "    Xtr = Xtr.reshape(-1, 28, 28, 1)\n",
    "    for i in range(5):\n",
    "        for start, end in zip(range(0, len(Xtr), 128), range(128, len(Xtr)+1, 128)):\n",
    "            optimizer.run(feed_dict = \\\n",
    "                          {X: Xtr[start: end], Y: Ytr[start: end], keep_rate_conv: 0.8, keep_rate_hid: 0.5})\n",
    "            train_accuracy = sess.run(accuracy, feed_dict = \\\n",
    "                                          {X: Xtr[start: end], Y: Ytr[start: end],\\\n",
    "                                           keep_rate_conv: 0.8, keep_rate_hid: 0.5})\n",
    "            \n",
    "        print \"Epoch: %d, Accuracy: %f\" %(i+1, train_accuracy)\n",
    "    \n",
    "    print \"Done\"\n",
    "    Xte, Yte = mnist.train.next_batch(500)\n",
    "    Xte = Xte.reshape(-1, 28, 28, 1)\n",
    "    print \"Test Accuracy: \", sess.run(accuracy, feed_dict = {X: Xte, Y: Yte, keep_rate_conv: 1, keep_rate_hid: 1})"
   ]
  }
 ],
 "metadata": {
  "anaconda-cloud": {},
  "kernelspec": {
   "display_name": "Python [conda root]",
   "language": "python",
   "name": "conda-root-py"
  },
  "language_info": {
   "codemirror_mode": {
    "name": "ipython",
    "version": 2
   },
   "file_extension": ".py",
   "mimetype": "text/x-python",
   "name": "python",
   "nbconvert_exporter": "python",
   "pygments_lexer": "ipython2",
   "version": "2.7.12"
  }
 },
 "nbformat": 4,
 "nbformat_minor": 1
}
