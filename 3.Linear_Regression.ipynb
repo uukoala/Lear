{
 "cells": [
  {
   "cell_type": "markdown",
   "metadata": {},
   "source": [
    "# Linear_Regression"
   ]
  },
  {
   "cell_type": "code",
   "execution_count": 1,
   "metadata": {
    "collapsed": true
   },
   "outputs": [],
   "source": [
    "import tensorflow as tf\n",
    "import numpy as np\n",
    "import matplotlib.pyplot as plt"
   ]
  },
  {
   "cell_type": "code",
   "execution_count": 2,
   "metadata": {
    "collapsed": true
   },
   "outputs": [],
   "source": [
    "# Parameters\n",
    "learning_rate = 0.001\n",
    "training_epoch = 1000\n",
    "show_step = 50"
   ]
  },
  {
   "cell_type": "code",
   "execution_count": 3,
   "metadata": {
    "collapsed": false
   },
   "outputs": [],
   "source": [
    "train_X = np.array([3.3,4.4,5.5,6.71,6.93,4.168,9.779,6.182,7.59,2.167,\n",
    "                         7.042,10.791,5.313,7.997,5.654,9.27,3.1])\n",
    "train_Y = np.asarray([1.7,2.76,2.09,3.19,1.694,1.573,3.366,2.596,2.53,1.221,\n",
    "                         2.827,3.465,1.65,2.904,2.42,2.94,1.3])\n",
    "n_samples = train_X.shape[0]"
   ]
  },
  {
   "cell_type": "code",
   "execution_count": 4,
   "metadata": {
    "collapsed": false
   },
   "outputs": [],
   "source": [
    "X = tf.placeholder(tf.float32)\n",
    "Y = tf.placeholder(tf.float32)\n",
    "\n",
    "W = tf.Variable(tf.truncated_normal([1], stddev = 0.1))\n",
    "b = tf.Variable(tf.truncated_normal([1], stddev = 0.1))"
   ]
  },
  {
   "cell_type": "code",
   "execution_count": 5,
   "metadata": {
    "collapsed": true
   },
   "outputs": [],
   "source": [
    "y_pred = X * W + b"
   ]
  },
  {
   "cell_type": "code",
   "execution_count": 6,
   "metadata": {
    "collapsed": false
   },
   "outputs": [],
   "source": [
    "cost = tf.reduce_sum(tf.pow(Y - y_pred, 2)) / (2*n_samples)\n",
    "optimizer = tf.train.GradientDescentOptimizer(learning_rate).minimize(cost)"
   ]
  },
  {
   "cell_type": "code",
   "execution_count": 7,
   "metadata": {
    "collapsed": true
   },
   "outputs": [],
   "source": [
    "init = tf.initialize_all_variables()"
   ]
  },
  {
   "cell_type": "code",
   "execution_count": 8,
   "metadata": {
    "collapsed": false
   },
   "outputs": [
    {
     "name": "stdout",
     "output_type": "stream",
     "text": [
      "Epoch:   50, cost = 0.191189587, W:  0.324944, b: -0.104005083\n",
      "Epoch:  100, cost = 0.126731440, W:  0.371326, b: -0.091923617\n",
      "Epoch:  150, cost = 0.125375524, W:  0.375475, b: -0.085838422\n",
      "Epoch:  200, cost = 0.124774709, W:  0.375231, b: -0.080406740\n",
      "Epoch:  250, cost = 0.124195732, W:  0.374533, b: -0.075072095\n",
      "Epoch:  300, cost = 0.123624623, W:  0.373793, b: -0.069776416\n",
      "Epoch:  350, cost = 0.123060435, W:  0.373053, b: -0.064513437\n",
      "Epoch:  400, cost = 0.122503087, W:  0.372316, b: -0.059282571\n",
      "Epoch:  450, cost = 0.121952504, W:  0.371584, b: -0.054083258\n",
      "Epoch:  500, cost = 0.121408522, W:  0.370856, b: -0.048915427\n",
      "Epoch:  550, cost = 0.120871149, W:  0.370132, b: -0.043778982\n",
      "Epoch:  600, cost = 0.120340221, W:  0.369414, b: -0.038673528\n",
      "Epoch:  650, cost = 0.119815759, W:  0.368699, b: -0.033599097\n",
      "Epoch:  700, cost = 0.119297586, W:  0.367988, b: -0.028555294\n",
      "Epoch:  750, cost = 0.118785702, W:  0.367282, b: -0.023542169\n",
      "Epoch:  800, cost = 0.118279994, W:  0.366580, b: -0.018559340\n",
      "Epoch:  850, cost = 0.117780387, W:  0.365883, b: -0.013606754\n",
      "Epoch:  900, cost = 0.117286846, W:  0.365190, b: -0.008684150\n",
      "Epoch:  950, cost = 0.116799228, W:  0.364501, b: -0.003791354\n",
      "Epoch: 1000, cost = 0.116317533, W:  0.363816, b: 0.001071781\n",
      "Optimizer Finished\n",
      "cost =  0.000861, W: 0.363815635, b: 0.001071781\n"
     ]
    },
    {
     "data": {
      "image/png": "[encoded data removed]",
      "text/plain": [
       "<matplotlib.figure.Figure at 0x7f4134f7d690>"
      ]
     },
     "metadata": {},
     "output_type": "display_data"
    }
   ],
   "source": [
    "with tf.Session() as sess:\n",
    "    sess.run(init)\n",
    "    for i in range(training_epoch):\n",
    "        for (x, y) in zip(train_X, train_Y):\n",
    "            sess.run(optimizer, feed_dict={X: x, Y: y})\n",
    "        if (i + 1) % show_step == 0:\n",
    "            cur_cost = sess.run(cost, feed_dict={X: train_X, Y: train_Y})\n",
    "            print \"Epoch: %4d, cost = %.9f, W: %9f, b: %.9f\" %(i+1, cur_cost, sess.run(W), sess.run(b))\n",
    "            \n",
    "    print \"Optimizer Finished\"\n",
    "    tr_cost = sess.run(cost, feed_dict={X: x, Y: y})\n",
    "    print \"cost = %9f, W: %.9f, b: %.9f\" %(tr_cost, sess.run(W), sess.run(b))\n",
    "    \n",
    "    plt.plot(train_X, train_Y, \"ro\", label = \"Original Line\")\n",
    "    plt.plot(train_X, sess.run(W) * train_X + sess.run(b), label = \"Fitted Line\")\n",
    "    plt.legend()\n",
    "    plt.show()"
   ]
  }
 ],
 "metadata": {
  "anaconda-cloud": {},
  "kernelspec": {
   "display_name": "Python [default]",
   "language": "python",
   "name": "python2"
  },
  "language_info": {
   "codemirror_mode": {
    "name": "ipython",
    "version": 2
   },
   "file_extension": ".py",
   "mimetype": "text/x-python",
   "name": "python",
   "nbconvert_exporter": "python",
   "pygments_lexer": "ipython2",
   "version": "2.7.12"
  }
 },
 "nbformat": 4,
 "nbformat_minor": 1
}
