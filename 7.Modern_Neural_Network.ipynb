{
 "cells": [
  {
   "cell_type": "markdown",
   "metadata": {},
   "source": [
    "# Modern_Neural_Network"
   ]
  },
  {
   "cell_type": "code",
   "execution_count": 1,
   "metadata": {
    "collapsed": false
   },
   "outputs": [
    {
     "name": "stdout",
     "output_type": "stream",
     "text": [
      "Extracting MNIST/train-images-idx3-ubyte.gz\n",
      "Extracting MNIST/train-labels-idx1-ubyte.gz\n",
      "Extracting MNIST/t10k-images-idx3-ubyte.gz\n",
      "Extracting MNIST/t10k-labels-idx1-ubyte.gz\n"
     ]
    }
   ],
   "source": [
    "import tensorflow as tf\n",
    "import numpy as np\n",
    "from tensorflow.examples.tutorials.mnist import input_data\n",
    "\n",
    "#Load the data\n",
    "mnist = input_data.read_data_sets(\"MNIST/\", one_hot=True)"
   ]
  },
  {
   "cell_type": "code",
   "execution_count": 2,
   "metadata": {
    "collapsed": false
   },
   "outputs": [],
   "source": [
    "def weight(shape):\n",
    "    return tf.Variable(tf.truncated_normal(shape, stddev = 0.1))\n",
    "\n",
    "def model(X, W_h1, W_h2, W_o, keep_rate_input, keep_rate_hidden):\n",
    "    h1_i = tf.matmul(tf.nn.dropout(X, keep_rate_input), W_h1)\n",
    "    h1_o = tf.nn.relu(h1_i)\n",
    "    \n",
    "    h2_i = tf.matmul(tf.nn.dropout(h1_o, keep_rate_hidden), W_h2)\n",
    "    h2_o =tf.nn.relu(h2_i)\n",
    "    \n",
    "    return tf.matmul(tf.nn.dropout(h2_o, keep_rate_hidden), W_o)"
   ]
  },
  {
   "cell_type": "code",
   "execution_count": 3,
   "metadata": {
    "collapsed": false
   },
   "outputs": [],
   "source": [
    "#Create Input\n",
    "X = tf.placeholder(tf.float32, [None, 784])\n",
    "Y = tf.placeholder(tf.float32, [None, 10])\n",
    "keep_rate_input = tf.placeholder(tf.float32)\n",
    "keep_rate_hidden = tf.placeholder(tf.float32)\n",
    "\n",
    "#Create Parameters\n",
    "W_h1 = weight([784, 625])\n",
    "W_h2 = weight([625, 625])\n",
    "W_o = weight([625, 10])\n",
    "\n",
    "hidden_out = model(X, W_h1, W_h2, W_o, keep_rate_input, keep_rate_hidden)\n",
    "\n",
    "cost = tf.reduce_mean(tf.nn.softmax_cross_entropy_with_logits(hidden_out,Y))\n",
    "optimizer = tf.train.RMSPropOptimizer(0.001, 0.9).minimize(cost)\n",
    "\n",
    "predict_correction = tf.equal(tf.argmax(hidden_out,1), tf.arg_max(Y, 1))\n",
    "accuracy = tf.reduce_mean(tf.cast(predict_correction, tf.float32))\n",
    "\n",
    "init = tf.initialize_all_variables()"
   ]
  },
  {
   "cell_type": "code",
   "execution_count": 4,
   "metadata": {
    "collapsed": false
   },
   "outputs": [
    {
     "name": "stdout",
     "output_type": "stream",
     "text": [
      "Epoch: 1, Accuracy: 0.937500\n",
      "Epoch: 2, Accuracy: 0.992188\n",
      "Epoch: 3, Accuracy: 0.984375\n",
      "Epoch: 4, Accuracy: 1.000000\n",
      "Epoch: 5, Accuracy: 0.984375\n",
      "Epoch: 6, Accuracy: 0.984375\n",
      "Epoch: 7, Accuracy: 0.992188\n",
      "Epoch: 8, Accuracy: 0.992188\n",
      "Epoch: 9, Accuracy: 1.000000\n",
      "Epoch: 10, Accuracy: 0.992188\n",
      "Epoch: 11, Accuracy: 1.000000\n",
      "Epoch: 12, Accuracy: 1.000000\n",
      "Epoch: 13, Accuracy: 0.984375\n",
      "Epoch: 14, Accuracy: 0.984375\n",
      "Epoch: 15, Accuracy: 0.992188\n",
      "Epoch: 16, Accuracy: 0.992188\n",
      "Epoch: 17, Accuracy: 0.984375\n",
      "Epoch: 18, Accuracy: 0.984375\n",
      "Epoch: 19, Accuracy: 1.000000\n",
      "Epoch: 20, Accuracy: 1.000000\n",
      "Done\n",
      "Test Accuracy: 0.990527\n"
     ]
    }
   ],
   "source": [
    "with tf.Session() as sess:\n",
    "    sess.run(init)\n",
    "    for i in range(20):\n",
    "        Xtr, Ytr = mnist.train.images, mnist.train.labels\n",
    "        for start, end in zip(range(0, len(Xtr), 128), range(128, len(Xtr)+1, 128)):\n",
    "            optimizer.run(feed_dict = \\\n",
    "                          {X: Xtr[start: end], Y: Ytr[start: end],keep_rate_input: 0.8, keep_rate_hidden: 0.5})\n",
    "            training_accuracy = sess.run(accuracy, \\\n",
    "                                     feed_dict = {X: Xtr[start: end], Y: Ytr[start: end],\\\n",
    "                                                  keep_rate_input: 0.8, keep_rate_hidden: 0.5})\n",
    "        \n",
    "        print \"Epoch: %d, Accuracy: %f\" %(i+1, training_accuracy)\n",
    "    \n",
    "    print \"Done\"\n",
    "    Xte, Yte = mnist.test.next_batch(10000)\n",
    "    print \"Test Accuracy:\", sess.run(accuracy, \\\n",
    "                                     feed_dict = {X: Xtr, Y: Ytr, keep_rate_input: 1, keep_rate_hidden: 1})"
   ]
  },
  {
   "cell_type": "code",
   "execution_count": null,
   "metadata": {
    "collapsed": true
   },
   "outputs": [],
   "source": []
  }
 ],
 "metadata": {
  "kernelspec": {
   "display_name": "Python [conda root]",
   "language": "python",
   "name": "conda-root-py"
  },
  "language_info": {
   "codemirror_mode": {
    "name": "ipython",
    "version": 2
   },
   "file_extension": ".py",
   "mimetype": "text/x-python",
   "name": "python",
   "nbconvert_exporter": "python",
   "pygments_lexer": "ipython2",
   "version": "2.7.12"
  }
 },
 "nbformat": 4,
 "nbformat_minor": 1
}
